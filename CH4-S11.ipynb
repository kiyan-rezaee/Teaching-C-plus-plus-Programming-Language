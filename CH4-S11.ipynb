{
 "cells": [
  {
   "cell_type": "markdown",
   "id": "ea44b00b",
   "metadata": {},
   "source": [
    "## C++ Arrays"
   ]
  },
  {
   "cell_type": "markdown",
   "id": "a301de52",
   "metadata": {},
   "source": [
    "## Define an array"
   ]
  },
  {
   "cell_type": "code",
   "execution_count": null,
   "id": "0ffa6386",
   "metadata": {},
   "outputs": [],
   "source": [
    "#include <iostream>\n",
    "#include <string>\n",
    "using namespace std;\n",
    "int main()\n",
    "{\n",
    "    // datatype arrayName[arraysize];\n",
    "    \n",
    "    double arr1[27];\n",
    "    int arr2[4];\n",
    "    return 0;\n",
    "}\n"
   ]
  },
  {
   "cell_type": "markdown",
   "id": "caaa1ea1",
   "metadata": {},
   "source": [
    "## Array Initialization"
   ]
  },
  {
   "cell_type": "code",
   "execution_count": null,
   "id": "5908f7d3",
   "metadata": {},
   "outputs": [],
   "source": [
    "#include <iostream>\n",
    "#include <string>\n",
    "\n",
    "using namespace std;\n",
    "int main()\n",
    "{\n",
    "    int a[4] = {1, 2, 3, 4};\n",
    "\n",
    "    return 0;\n",
    "}\n"
   ]
  },
  {
   "cell_type": "markdown",
   "id": "8328e257",
   "metadata": {},
   "source": [
    "## looping through an array"
   ]
  },
  {
   "cell_type": "code",
   "execution_count": null,
   "id": "cbca863b",
   "metadata": {},
   "outputs": [],
   "source": [
    "#include <iostream>\n",
    "#include <string>\n",
    "\n",
    "using namespace std;\n",
    "int main()\n",
    "{\n",
    "    int a[6] = {1, 2, 4, 3, 6, 5};\n",
    "    int i=0;\n",
    "    while (a[i]!=3){\n",
    "        cout<< a[i] << \" \";\n",
    "    if (i<=4)\n",
    "        i++;\n",
    "    }\n",
    "\n",
    "    return 0;\n",
    "}\n"
   ]
  },
  {
   "cell_type": "code",
   "execution_count": null,
   "id": "362d7af1",
   "metadata": {},
   "outputs": [],
   "source": [
    "#include <iostream>\n",
    "#include <string>\n",
    "\n",
    "using namespace std;\n",
    "\n",
    "int isprime(int n)\n",
    "{\n",
    "    if (n==1)\n",
    "        return 0;\n",
    "    bool c = true;\n",
    "    for (int i =2; i<n; i++)\n",
    "    {\n",
    "        if(n%i == 0){\n",
    "            c = false;\n",
    "            break;\n",
    "        }\n",
    "    }\n",
    "    if (c == true)\n",
    "        return 1;\n",
    "    else\n",
    "        return 0;\n",
    "}\n",
    "\n",
    "int main()\n",
    "{\n",
    "\n",
    "    int a[7] = {13, 45, 14, 65, 5, 4, 46};\n",
    "    int i=0;\n",
    "    int k=0;\n",
    "    int counter=0;\n",
    "    for (i=0; i<=6; i++){\n",
    "    if (isprime(a[i])==1)\n",
    "        counter+=1;\n",
    "    }\n",
    "\n",
    "    int b[counter];\n",
    "    for (int j=0; j<7;j++)\n",
    "    {\n",
    "        if(isprime(a[j]) == 1)\n",
    "        {\n",
    "            b[k] = a[j];\n",
    "            k += 1;\n",
    "        }\n",
    "    }\n",
    "    for(int i=0; i<counter; i++)\n",
    "        cout << b[i] << \" \";\n",
    "\n",
    "    return 0;\n",
    "}\n"
   ]
  },
  {
   "cell_type": "code",
   "execution_count": null,
   "id": "816a2509",
   "metadata": {},
   "outputs": [],
   "source": [
    "#include <iostream>\n",
    "#include <string>\n",
    "\n",
    "using namespace std;\n",
    "\n",
    "\n",
    "int main()\n",
    "{\n",
    "    int s[5] = {1, 2, 3, 4, 5};\n",
    "    cout << sizeof(s) << \" \";\n",
    "    cout << sizeof(int);\n",
    "    return 0;\n",
    "}\n"
   ]
  },
  {
   "cell_type": "code",
   "execution_count": null,
   "id": "993d9471",
   "metadata": {},
   "outputs": [],
   "source": [
    "#include <iostream>\n",
    "#include <string>\n",
    "\n",
    "using namespace std;\n",
    "\n",
    "\n",
    "int main()\n",
    "{\n",
    "    string a[2][4] = {\n",
    "        {\"A\", \"B\", \"C\", \"D\"},\n",
    "        {\"Q\", \"W\", \"R\", \"y\"}\n",
    "        };\n",
    "    cout << a[0][1];\n",
    "    return 0;\n",
    "}\n"
   ]
  },
  {
   "cell_type": "code",
   "execution_count": null,
   "id": "b9237c94",
   "metadata": {},
   "outputs": [],
   "source": [
    "#include <iostream>\n",
    "#include <string>\n",
    "\n",
    "using namespace std;\n",
    "\n",
    "\n",
    "int main()\n",
    "\n",
    "{\n",
    "    int n, counter=0;\n",
    "    cin >> n;\n",
    "    int arr1[n];\n",
    "    for (int i=0; i<n; i++)\n",
    "        cin>>arr1[i];\n",
    "    int arr2[n];\n",
    "    for (int j=0; j<n; j++){\n",
    "        if (arr1[j]!=0){\n",
    "            arr2[counter]=arr1[j];\n",
    "            counter+=1;\n",
    "        }\n",
    "    }\n",
    "    while(n-counter!=0){\n",
    "        arr2[counter+1]=0;\n",
    "        counter+=1;\n",
    "        }\n",
    "        for (int k=0; k<n; k++)\n",
    "           cout<<arr2[k];\n",
    "    return 0;\n",
    "}\n",
    "\n"
   ]
  },
  {
   "cell_type": "code",
   "execution_count": null,
   "id": "a7e8fbad",
   "metadata": {},
   "outputs": [],
   "source": [
    "#include <iostream>\n",
    "#include <string>\n",
    "\n",
    "using namespace std;\n",
    "int countt(int x){\n",
    "    int counter=0;\n",
    "    while(x!=0){\n",
    "        x=x/10;\n",
    "        counter+=1;\n",
    "    }\n",
    "    return counter;\n",
    "}\n",
    "\n",
    "int main()\n",
    "\n",
    "{\n",
    "    int n;\n",
    "    cin >>n;\n",
    "    int a[n];\n",
    "    int b[n];\n",
    "    for (int i=0; i<n;i++)\n",
    "        cin>>a[i];\n",
    "        for (int j=0; j<n; j++){\n",
    "        b[j]=countt(a[j]);\n",
    "        cout<<b[j]<<endl;\n",
    "        }\n",
    "\n",
    "\n",
    "    return 0;\n",
    "}\n"
   ]
  }
 ],
 "metadata": {
  "kernelspec": {
   "display_name": "Python 3 (ipykernel)",
   "language": "python",
   "name": "python3"
  },
  "language_info": {
   "codemirror_mode": {
    "name": "ipython",
    "version": 3
   },
   "file_extension": ".py",
   "mimetype": "text/x-python",
   "name": "python",
   "nbconvert_exporter": "python",
   "pygments_lexer": "ipython3",
   "version": "3.8.16"
  }
 },
 "nbformat": 4,
 "nbformat_minor": 5
}
