{
 "cells": [
  {
   "cell_type": "markdown",
   "id": "d79046f3",
   "metadata": {},
   "source": [
    "## C++ Strings\n"
   ]
  },
  {
   "cell_type": "code",
   "execution_count": null,
   "id": "a8508e2d",
   "metadata": {},
   "outputs": [],
   "source": [
    "#include <iostream>\n",
    "using namespace std;\n",
    "\n",
    "int main()\n",
    "{\n",
    "    string s = \"Hello\";\n",
    "    cout << s;\n",
    "    return 0;\n",
    "}\n"
   ]
  },
  {
   "cell_type": "markdown",
   "id": "80f24a37",
   "metadata": {},
   "source": [
    "## C++ String Concatenation"
   ]
  },
  {
   "cell_type": "code",
   "execution_count": null,
   "id": "32de4f4c",
   "metadata": {},
   "outputs": [],
   "source": [
    "#include <iostream>\n",
    "using namespace std;\n",
    "\n",
    "int main()\n",
    "{\n",
    "    string firstname = \"Kiyan\";\n",
    "    string lastname = \"Rezaee\";\n",
    "    string fullname = firstname + \" \" + lastname;\n",
    "    cout << fullname;\n",
    "    return 0;\n",
    "}\n"
   ]
  },
  {
   "cell_type": "markdown",
   "id": "7541d89a",
   "metadata": {},
   "source": [
    "## Append"
   ]
  },
  {
   "cell_type": "code",
   "execution_count": null,
   "id": "f4dc84d4",
   "metadata": {},
   "outputs": [],
   "source": [
    "#include <iostream>\n",
    "#include <string>\n",
    "using namespace std;\n",
    "\n",
    "int main()\n",
    "{\n",
    "    string firstname = \"Kiyan \";\n",
    "    string lastname = \"Rezaee\";\n",
    "    string fullname = firstname.append(lastname);\n",
    "    cout << fullname;\n",
    "    return 0;\n",
    "}\n"
   ]
  },
  {
   "cell_type": "markdown",
   "id": "6ab14b8f",
   "metadata": {},
   "source": [
    "## C++ Numbers and Strings"
   ]
  },
  {
   "cell_type": "code",
   "execution_count": null,
   "id": "4c7eeda2",
   "metadata": {},
   "outputs": [],
   "source": [
    "#include <iostream>\n",
    "#include <string>\n",
    "using namespace std;\n",
    "\n",
    "int main()\n",
    "{\n",
    "    int x=10;\n",
    "    int y=21;\n",
    "    int z = x+y;\n",
    "    cout << z;\n",
    "    string firstname = \"Kiyan \";\n",
    "    string lastname = \"Rezaee\";\n",
    "    string fullname = firstname + lastname;\n",
    "    cout << fullname;\n",
    "    cout << firstname + x;\n",
    "    return 0;\n",
    "}\n"
   ]
  },
  {
   "cell_type": "code",
   "execution_count": null,
   "id": "41f1bbda",
   "metadata": {},
   "outputs": [],
   "source": [
    "#include <iostream>\n",
    "#include <string>\n",
    "using namespace std;\n",
    "\n",
    "int main()\n",
    "{\n",
    "    string x=\"10\";\n",
    "    string y=\"21\";\n",
    "    string z = x+y;\n",
    "    cout << z;\n",
    "    return 0;\n",
    "}\n"
   ]
  },
  {
   "cell_type": "markdown",
   "id": "932cec97",
   "metadata": {},
   "source": [
    "## String length & size\n"
   ]
  },
  {
   "cell_type": "code",
   "execution_count": null,
   "id": "166c4063",
   "metadata": {},
   "outputs": [],
   "source": [
    "#include <iostream>\n",
    "#include <string>\n",
    "using namespace std;\n",
    "\n",
    "int main()\n",
    "{\n",
    "    string t = \"ANOFDIJIOFJIOJFIODJIJOJFODIJ\";\n",
    "    cout << t.length();\n",
    "    cout << t.size();\n",
    "    return 0;\n",
    "}\n"
   ]
  },
  {
   "cell_type": "markdown",
   "id": "7deb68dd",
   "metadata": {},
   "source": [
    "## Access Strings"
   ]
  },
  {
   "cell_type": "code",
   "execution_count": null,
   "id": "a0c24902",
   "metadata": {},
   "outputs": [],
   "source": [
    "#include <iostream>\n",
    "#include <string>\n",
    "using namespace std;\n",
    "\n",
    "\n",
    "int main()\n",
    "{\n",
    "    string mystring = \"hello\";\n",
    "    mystring[0] = 'K';\n",
    "    cout << mystring;\n",
    "    return 0;\n",
    "}\n"
   ]
  },
  {
   "cell_type": "markdown",
   "id": "441c3ddf",
   "metadata": {},
   "source": [
    "## Special Characters"
   ]
  },
  {
   "cell_type": "code",
   "execution_count": null,
   "id": "30839134",
   "metadata": {},
   "outputs": [],
   "source": [
    "#include <iostream>\n",
    "#include <string>\n",
    "using namespace std;\n",
    "\n",
    "\n",
    "int main()\n",
    "{\n",
    "    \n",
    "    string mystring = \"My name is \\\"Kiyan\\\" and hello\";\n",
    "     string mystring2=\"The character \\\\ is called backslash.\";\n",
    "    //cout << mystring;\n",
    "    cout << mystring2;\n",
    "    return 0;\n",
    "}\n"
   ]
  },
  {
   "cell_type": "code",
   "execution_count": null,
   "id": "9308a0e5",
   "metadata": {},
   "outputs": [],
   "source": [
    "#include <iostream>\n",
    "#include <string>\n",
    "using namespace std;\n",
    "\n",
    "\n",
    "int main()\n",
    "{\n",
    "\n",
    "    string s = \"Hello\\nWorld\";\n",
    "    string q = \"Hello\\tWorld\";\n",
    "    cout<< q;\n",
    "    return 0;\n",
    "}\n"
   ]
  },
  {
   "cell_type": "markdown",
   "id": "c4735e1b",
   "metadata": {},
   "source": [
    "## User input string (cin vs getline)"
   ]
  },
  {
   "cell_type": "code",
   "execution_count": null,
   "id": "36cbc8f5",
   "metadata": {},
   "outputs": [],
   "source": [
    "#include <iostream>\n",
    "#include <string>\n",
    "using namespace std;\n",
    "\n",
    "\n",
    "int main()\n",
    "{\n",
    "    string fullname;\n",
    "    cout << \"Type your full name : \";\n",
    "    cin >> fullname; // cin considers a space as a terminating character.\n",
    "    cout << \"Your fullname is : \" << fullname;\n",
    "\n",
    "    return 0;\n",
    "}\n"
   ]
  },
  {
   "cell_type": "code",
   "execution_count": null,
   "id": "9c92969e",
   "metadata": {},
   "outputs": [],
   "source": [
    "#include <iostream>\n",
    "#include <string>\n",
    "using namespace std;\n",
    "int main()\n",
    "{\n",
    "    string fullname;\n",
    "    cout << \"Type your full name : \";\n",
    "    getline(cin, fullname);\n",
    "    for (int i=0; i<= fullname.length(); i++)\n",
    "        cout << fullname[i]<< endl;\n",
    "\n",
    "    return 0;\n",
    "}\n"
   ]
  },
  {
   "cell_type": "markdown",
   "id": "7eb7c406",
   "metadata": {},
   "source": [
    "## String Comparison"
   ]
  },
  {
   "cell_type": "code",
   "execution_count": null,
   "id": "78a22773",
   "metadata": {},
   "outputs": [],
   "source": [
    "#include <iostream>\n",
    "#include <string>\n",
    "using namespace std;\n",
    "int main()\n",
    "{\n",
    "    string s = \"Hello\";\n",
    "    string l = \"Hi\";\n",
    "    int result = s.compare(l);\n",
    "    \n",
    "\n",
    "    return 0;\n",
    "}\n"
   ]
  },
  {
   "cell_type": "markdown",
   "id": "6626e32c",
   "metadata": {},
   "source": [
    "## String Substring"
   ]
  },
  {
   "cell_type": "code",
   "execution_count": null,
   "id": "71d8de43",
   "metadata": {},
   "outputs": [],
   "source": [
    "#include <iostream>\n",
    "#include <string>\n",
    "using namespace std;\n",
    "int main()\n",
    "{\n",
    "    string str = \"Hello, world!\";\n",
    "    cout << str.substr(7,5);\n",
    "    // The string substring function extracts a substring from a string, starting at a specified position and with a specified length.\n",
    "\n",
    "    return 0;\n",
    "}\n"
   ]
  }
 ],
 "metadata": {
  "kernelspec": {
   "display_name": "Python 3 (ipykernel)",
   "language": "python",
   "name": "python3"
  },
  "language_info": {
   "codemirror_mode": {
    "name": "ipython",
    "version": 3
   },
   "file_extension": ".py",
   "mimetype": "text/x-python",
   "name": "python",
   "nbconvert_exporter": "python",
   "pygments_lexer": "ipython3",
   "version": "3.8.16"
  }
 },
 "nbformat": 4,
 "nbformat_minor": 5
}
