{
 "cells": [
  {
   "cell_type": "markdown",
   "id": "762d0047",
   "metadata": {},
   "source": [
    "## Week one : Introduction to C++ (input and output commands)"
   ]
  },
  {
   "cell_type": "markdown",
   "id": "dbd6fac0",
   "metadata": {},
   "source": [
    "### Q1 : The value of m?"
   ]
  },
  {
   "cell_type": "code",
   "execution_count": null,
   "id": "84d6a36d",
   "metadata": {},
   "outputs": [],
   "source": [
    "#include <iostream>\n",
    "\n",
    "using namespace std;\n",
    "\n",
    "\n",
    "\n",
    "int main()\n",
    "{\n",
    "    int x = 5, y=10, z=3, m;\n",
    "    m = x * ((x+y)-z) / 2;\n",
    "    cout << m;\n",
    "    return 0;\n",
    "}\n",
    "\n"
   ]
  },
  {
   "cell_type": "markdown",
   "id": "0717f3b3",
   "metadata": {},
   "source": [
    "### Assigment values"
   ]
  },
  {
   "cell_type": "code",
   "execution_count": null,
   "id": "69b15046",
   "metadata": {},
   "outputs": [],
   "source": [
    "#include <iostream>\n",
    "\n",
    "using namespace std;\n",
    "\n",
    "\n",
    "\n",
    "int main()\n",
    "{\n",
    "    int x, y;\n",
    "    x = 10;\n",
    "    y = x++; // 1- y = x , 2- x = x + 1\n",
    "    cout << x << endl;\n",
    "    cout << y;\n",
    "    return 0;\n",
    "}\n"
   ]
  },
  {
   "cell_type": "code",
   "execution_count": null,
   "id": "b30ce2f2",
   "metadata": {},
   "outputs": [],
   "source": [
    "#include <iostream>\n",
    "\n",
    "using namespace std;\n",
    "\n",
    "\n",
    "\n",
    "int main()\n",
    "{\n",
    "    int x = 1, y;\n",
    "    y = x++ * x++; // y = x , x = x + 1, y=(x+1)*x, x = x+1\n",
    "    cout << x << endl;\n",
    "    cout << y << endl;\n",
    "    return 0;\n",
    "}\n"
   ]
  },
  {
   "cell_type": "markdown",
   "id": "f0ed338e",
   "metadata": {},
   "source": [
    "### Division"
   ]
  },
  {
   "cell_type": "code",
   "execution_count": null,
   "id": "56795737",
   "metadata": {},
   "outputs": [],
   "source": [
    "#include <iostream>\n",
    "\n",
    "using namespace std;\n",
    "\n",
    "\n",
    "\n",
    "int main()\n",
    "{\n",
    "    int y = 10;\n",
    "    float x = 10.0;\n",
    "    x = x / 3;\n",
    "    y = y / 3;\n",
    "    cout << x << \" \" << y << endl;\n",
    "    return 0;\n",
    "}\n"
   ]
  },
  {
   "cell_type": "markdown",
   "id": "c6add013",
   "metadata": {},
   "source": [
    "### Shifts"
   ]
  },
  {
   "cell_type": "markdown",
   "id": "d77eb224",
   "metadata": {},
   "source": [
    "#include <iostream>\n",
    "\n",
    "using namespace std;\n",
    "\n",
    "\n",
    "\n",
    "int main()\n",
    "{\n",
    "    int x = 10; //001010 = 8*1 + 4*0 + 2*1 + 1*0 = 10\n",
    "    x = x << 2;\n",
    "    cout << x; //40 = 101000\n",
    "    return 0;\n",
    "}\n"
   ]
  },
  {
   "cell_type": "markdown",
   "id": "e3154110",
   "metadata": {},
   "source": [
    "### IF (special case)"
   ]
  },
  {
   "cell_type": "code",
   "execution_count": null,
   "id": "0f1dbfe1",
   "metadata": {},
   "outputs": [],
   "source": [
    "#include <iostream>\n",
    "\n",
    "using namespace std;\n",
    "\n",
    "int main()\n",
    "{\n",
    "    int x = 25;\n",
    "    int y = x > 15 ? 3 : 4;\n",
    "    cout << y;\n",
    "    return 0;\n",
    "}"
   ]
  },
  {
   "cell_type": "markdown",
   "id": "997aa29f",
   "metadata": {},
   "source": [
    "### parentheses (Running multiple commands in one line)"
   ]
  },
  {
   "cell_type": "code",
   "execution_count": null,
   "id": "6d76f8a9",
   "metadata": {},
   "outputs": [],
   "source": [
    "#include <iostream>\n",
    "\n",
    "using namespace std;\n",
    "\n",
    "int main()\n",
    "{\n",
    "    // x++ == (x = x+1)\n",
    "    //\n",
    "    int x = 32, z;\n",
    "    int q = (x+5, z = x, z++);\n",
    "    // x + 5\n",
    "    // z = x //32\n",
    "    // q = z++ == q = z = 32 , z = z + 1 = 33\n",
    "    cout << x << endl; //32\n",
    "    cout << z << endl; // 33\n",
    "    cout << q << endl; //32\n",
    "\n",
    "    return 0;\n",
    "}\n"
   ]
  },
  {
   "cell_type": "code",
   "execution_count": null,
   "id": "0d8d0683",
   "metadata": {},
   "outputs": [],
   "source": [
    "#include <iostream>\n",
    "\n",
    "using namespace std;\n",
    "\n",
    "\n",
    "\n",
    "int main()\n",
    "{\n",
    "    int x=5, y, z;\n",
    "    y = (z=x++, z+5);\n",
    "    cout << x << endl; //6\n",
    "    cout << z << endl; //5\n",
    "    cout << y << endl; //10\n",
    "    return 0;\n",
    "}\n"
   ]
  },
  {
   "cell_type": "markdown",
   "id": "de76b085",
   "metadata": {},
   "source": [
    "### OR operation"
   ]
  },
  {
   "cell_type": "code",
   "execution_count": null,
   "id": "7c4f0fb3",
   "metadata": {},
   "outputs": [],
   "source": [
    "#include <iostream>\n",
    "\n",
    "using namespace std;\n",
    "\n",
    "\n",
    "\n",
    "int main()\n",
    "{\n",
    "    int x=10; y=5;\n",
    "    int z;\n",
    "    z = x | y;\n",
    "    return 0;\n",
    "}\n",
    "\n"
   ]
  },
  {
   "cell_type": "markdown",
   "id": "26a3604c",
   "metadata": {},
   "source": [
    "### Size of"
   ]
  },
  {
   "cell_type": "code",
   "execution_count": null,
   "id": "03ef6e76",
   "metadata": {},
   "outputs": [],
   "source": [
    "#include <iostream>\n",
    "\n",
    "using namespace std;\n",
    "\n",
    "\n",
    "\n",
    "int main()\n",
    "{\n",
    "    int x;\n",
    "    x = sizeof(float);\n",
    "    cout << x;\n",
    "    return 0;\n",
    "}\n"
   ]
  },
  {
   "cell_type": "markdown",
   "id": "a8aea8f0",
   "metadata": {},
   "source": [
    "## Q1 - Solve the equation without using multiplication symbol\n",
    "### hint : You can use shift operation"
   ]
  },
  {
   "cell_type": "code",
   "execution_count": null,
   "id": "65a0bb76",
   "metadata": {},
   "outputs": [],
   "source": [
    "x = 12\n",
    "y  = 255 * x - 18 * x + 15"
   ]
  },
  {
   "cell_type": "markdown",
   "id": "657550db",
   "metadata": {},
   "source": [
    "## Q2 - Guess the outputs of the codes below and then run them in your text editor."
   ]
  },
  {
   "cell_type": "code",
   "execution_count": null,
   "id": "f3038536",
   "metadata": {},
   "outputs": [],
   "source": [
    "#include <iostream>\n",
    "\n",
    "using namespace std;\n",
    "\n",
    "\n",
    "\n",
    "int main()\n",
    "{\n",
    "    int x = 5;\n",
    "    int y, z;\n",
    "    y = (z=x++, ++x, z+5);\n",
    "    cout << x << \" \" << z << \" \" << y << endl;\n",
    "    return 0;\n",
    "}\n"
   ]
  },
  {
   "cell_type": "code",
   "execution_count": null,
   "id": "1d5d24ee",
   "metadata": {},
   "outputs": [],
   "source": [
    "#include <iostream>\n",
    "\n",
    "using namespace std;\n",
    "\n",
    "\n",
    "\n",
    "int main()\n",
    "{\n",
    "    int x = 5;\n",
    "    int y=4;\n",
    "    int m;\n",
    "    m = x + (y*2.0) / 6 + y / 8;\n",
    "    cout << m << endl;\n",
    "    return 0;\n",
    "}\n"
   ]
  }
 ],
 "metadata": {
  "kernelspec": {
   "display_name": "Python 3 (ipykernel)",
   "language": "python",
   "name": "python3"
  },
  "language_info": {
   "codemirror_mode": {
    "name": "ipython",
    "version": 3
   },
   "file_extension": ".py",
   "mimetype": "text/x-python",
   "name": "python",
   "nbconvert_exporter": "python",
   "pygments_lexer": "ipython3",
   "version": "3.8.16"
  }
 },
 "nbformat": 4,
 "nbformat_minor": 5
}
