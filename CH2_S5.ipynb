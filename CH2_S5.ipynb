{
 "cells": [
  {
   "cell_type": "markdown",
   "id": "1b16115e",
   "metadata": {},
   "source": [
    "## Q_1 (شاگرد مغازه)"
   ]
  },
  {
   "cell_type": "code",
   "execution_count": null,
   "id": "f1726e08",
   "metadata": {},
   "outputs": [],
   "source": [
    "#include <iostream>\n",
    "#include <iomanip>\n",
    "\n",
    "using namespace std;\n",
    "\n",
    "\n",
    "int main()\n",
    "{\n",
    "int a, b, c,maxx, minn;\n",
    "cin>>a>>b>>c;\n",
    "maxx=a;\n",
    "if (b>maxx)\n",
    "    maxx=b;\n",
    "else if (c>maxx)\n",
    "    maxx=c;\n",
    "\n",
    "minn=a;\n",
    "if (b<minn)\n",
    "    minn=b;\n",
    "else if (c<minn)\n",
    "    minn=c;\n",
    "    cout<<\"minsood:\"<<minn<<endl<<\"maxsood:\"<<maxx;\n",
    "    return 0;\n",
    "}\n",
    "\n",
    "\n"
   ]
  },
  {
   "cell_type": "markdown",
   "id": "f0654449",
   "metadata": {},
   "source": [
    "## Q_2 (فروشنده)"
   ]
  },
  {
   "cell_type": "code",
   "execution_count": null,
   "id": "72809fe9",
   "metadata": {},
   "outputs": [],
   "source": [
    "#include <iostream>\n",
    "#include <iomanip>\n",
    "\n",
    "using namespace std;\n",
    "\n",
    "\n",
    "int main()\n",
    "{\n",
    "int n,m;\n",
    "float k;\n",
    "cin>>n;\n",
    "m=n*100;\n",
    "if (m <= 1000)\n",
    "    k=m*0.5;\n",
    "else if (m<=2500)\n",
    "    k=m*0.3;\n",
    "else\n",
    "    k=0.2*m;\n",
    "    cout<<k+m;\n",
    "\n",
    "}\n"
   ]
  },
  {
   "cell_type": "markdown",
   "id": "eca070e5",
   "metadata": {},
   "source": [
    "## Q_3 (کارت بازی)"
   ]
  },
  {
   "cell_type": "code",
   "execution_count": null,
   "id": "f9c735f2",
   "metadata": {},
   "outputs": [],
   "source": [
    "#include <iostream>\n",
    "#include <iomanip>\n",
    "\n",
    "using namespace std;\n",
    "\n",
    "\n",
    "int main()\n",
    "{\n",
    "string a, b, c, d;\n",
    "cin >> a >> b >> c >> d;\n",
    "int sum_kart_u=0, sum_kart_r=0;\n",
    "if (a == \"J\")\n",
    "    sum_kart_u += 11;\n",
    "else if (a == \"Q\")\n",
    "    sum_kart_u += 12;\n",
    "else if (a == \"K\")\n",
    "    sum_kart_u += 13;\n",
    "else\n",
    "    sum_kart_u += stoi(a);\n",
    "\n",
    "if (b == \"J\")\n",
    "    sum_kart_u += 11;\n",
    "else if (b == \"Q\")\n",
    "    sum_kart_u += 12;\n",
    "else if (b == \"K\")\n",
    "    sum_kart_u += 13;\n",
    "else\n",
    "    sum_kart_u += stoi(b);\n",
    "\n",
    "\n",
    "if (c == \"J\")\n",
    "    sum_kart_r += 11;\n",
    "else if (c == \"Q\")\n",
    "    sum_kart_r += 12;\n",
    "else if (c == \"K\")\n",
    "    sum_kart_r += 13;\n",
    "else\n",
    "    sum_kart_r += stoi(c);\n",
    "\n",
    "if (d == \"J\")\n",
    "    sum_kart_r += 11;\n",
    "else if (d == \"Q\")\n",
    "    sum_kart_r += 12;\n",
    "else if (d == \"K\")\n",
    "    sum_kart_r += 13;\n",
    "else\n",
    "    sum_kart_r += stoi(d);\n",
    "\n",
    "if ((sum_kart_r>21 && sum_kart_u>21) || (sum_kart_r == sum_kart_u))\n",
    "    cout<<\"hichi be hichi\";\n",
    "    else if ((sum_kart_r > 21))\n",
    "        cout << \"pulamo pas bede\";\n",
    "    else if ((sum_kart_u > 21))\n",
    "        cout << \"rahat shodam\";\n",
    "    else if (sum_kart_r > sum_kart_u)\n",
    "        cout << \"rahat shodam\";\n",
    "    else if (sum_kart_u > sum_kart_r)\n",
    "        cout << \"pulamo pas bede\";\n",
    "\n",
    "return 0;\n",
    "}\n",
    "\n"
   ]
  }
 ],
 "metadata": {
  "kernelspec": {
   "display_name": "Python 3 (ipykernel)",
   "language": "python",
   "name": "python3"
  },
  "language_info": {
   "codemirror_mode": {
    "name": "ipython",
    "version": 3
   },
   "file_extension": ".py",
   "mimetype": "text/x-python",
   "name": "python",
   "nbconvert_exporter": "python",
   "pygments_lexer": "ipython3",
   "version": "3.8.16"
  }
 },
 "nbformat": 4,
 "nbformat_minor": 5
}
