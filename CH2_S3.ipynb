{
 "cells": [
  {
   "cell_type": "markdown",
   "id": "8493b739",
   "metadata": {},
   "source": [
    "## Question 1"
   ]
  },
  {
   "cell_type": "code",
   "execution_count": null,
   "id": "8d58ed55",
   "metadata": {},
   "outputs": [],
   "source": [
    "#include <iostream>\n",
    "#include <iomanip>\n",
    "\n",
    "using namespace std;\n",
    "\n",
    "//  برنامه ای که سه عدد را از صفحه کلید بگیرد و حاصل جمع، میانگین ، حاصل ضرب، بزرگترین و کوچکترین عدد را چاپ کنید.\n",
    "\n",
    "int main()\n",
    "{\n",
    "    int a, b, c, sum, mul, maxx, minn;\n",
    "    float av;\n",
    "    cin >>a>>b>>c;\n",
    "    sum=a+b+c;\n",
    "    av=sum/3;\n",
    "    mul= a*b*c;\n",
    "    maxx=a;\n",
    "    maxx= (maxx<b) ? b : maxx;\n",
    "    maxx= (maxx<c) ? c: maxx;\n",
    "\n",
    "    minn=a;\n",
    "    minn= (minn>b) ?b : minn;\n",
    "    minn= (minn>c) ?c : minn;\n",
    "\n",
    "    cout << \"your max number is: \" << maxx <<\" \" << minn<< endl;\n",
    "    cout << av<<\" \"<< sum <<\" \" << mul;\n",
    "\n",
    "\n",
    "\n",
    "\n",
    "    return 0;\n",
    "}"
   ]
  },
  {
   "cell_type": "markdown",
   "id": "69e9dd76",
   "metadata": {},
   "source": [
    "## Question 2"
   ]
  },
  {
   "cell_type": "code",
   "execution_count": null,
   "id": "01e544cd",
   "metadata": {},
   "outputs": [],
   "source": [
    "#include <iostream>\n",
    "#include <iomanip>\n",
    "\n",
    "using namespace std;\n",
    "\n",
    "//  برنامه ای که یک عدد صحیح پنج رقمی را خوانده، ارقام آن را جدا کند و هر یک از ارقام را با سه فاصله بین آن ها چاپ کند.\n",
    "\n",
    "//53645\n",
    "//53645 / 10000 = 5\n",
    "//53645 / 1000 = 53 % 10 = 3\n",
    "//53645 / 100 = 536 % 10 = 6\n",
    "\n",
    "\n",
    "\n",
    "int main()\n",
    "{\n",
    "    int a, b, c, d, e, f;\n",
    "    cin>>a;\n",
    "    b=(a/10000);\n",
    "    c=(a/1000) % 10;\n",
    "    d= (a/ 100) %10;\n",
    "    e=(a/10 )% 10;\n",
    "    f= a % 10;\n",
    "    cout <<b<<\"   \"<<c<<\"   \"<<d<<\"   \"<<e<<\"   \"<<f;\n",
    "\n",
    "\n",
    "    return 0;\n",
    "}"
   ]
  },
  {
   "cell_type": "markdown",
   "id": "a9c48569",
   "metadata": {},
   "source": [
    "## IF and loops"
   ]
  },
  {
   "cell_type": "code",
   "execution_count": null,
   "id": "bfe0b9da",
   "metadata": {},
   "outputs": [],
   "source": [
    "#include <iostream>\n",
    "#include <iomanip>\n",
    "\n",
    "using namespace std;\n",
    "\n",
    "\n",
    "\n",
    "int main()\n",
    "{\n",
    "    int m;\n",
    "    cin >> m;\n",
    "    if(m > 0 && m < 0)\n",
    "        cout << m;\n",
    "\n",
    "    return 0;\n",
    "}"
   ]
  },
  {
   "cell_type": "code",
   "execution_count": null,
   "id": "5d6ac951",
   "metadata": {},
   "outputs": [],
   "source": [
    "#include <iostream>\n",
    "#include <iomanip>\n",
    "\n",
    "using namespace std;\n",
    "\n",
    "// مضارب 3 کوچکتر از 100\n",
    "\n",
    "int main()\n",
    "{\n",
    "    int i =3;\n",
    "    loop1:\n",
    "        cout <<  i << \"\\n\";\n",
    "        i += 3;\n",
    "        if (i < 100) goto loop1;\n",
    "\n",
    "    return 0;\n",
    "}\n"
   ]
  },
  {
   "cell_type": "markdown",
   "id": "5422b645",
   "metadata": {},
   "source": [
    "## Switch"
   ]
  },
  {
   "cell_type": "code",
   "execution_count": null,
   "id": "86fc9b9a",
   "metadata": {},
   "outputs": [],
   "source": [
    "#include <iostream>\n",
    "#include <iomanip>\n",
    "\n",
    "using namespace std;\n",
    "\n",
    "\n",
    "\n",
    "int main()\n",
    "{\n",
    "    int i=1;\n",
    "    switch (i*2)\n",
    "    {\n",
    "    case 10:\n",
    "        cout << \"ten\";\n",
    "        break;\n",
    "    case 2:\n",
    "        cout << \"two\";\n",
    "        break;\n",
    "    case 15:\n",
    "        cout << \"fifteen\";\n",
    "        break; // optional\n",
    "    }\n",
    "\n",
    "    return 0;\n",
    "}\n"
   ]
  },
  {
   "cell_type": "markdown",
   "id": "392c0c9b",
   "metadata": {},
   "source": [
    "## While"
   ]
  },
  {
   "cell_type": "code",
   "execution_count": null,
   "id": "b5de80db",
   "metadata": {},
   "outputs": [],
   "source": [
    "#include <iostream>\n",
    "#include <iomanip>\n",
    "\n",
    "using namespace std;\n",
    "\n",
    "\n",
    "\n",
    "int main()\n",
    "{\n",
    "    int i = 1;\n",
    "    while(1) // true\n",
    "    {\n",
    "        cout << i << \"\\n\";\n",
    "        i++;\n",
    "        if (i == 10)\n",
    "            break;\n",
    "    }\n",
    "    return 0;\n",
    "}\n"
   ]
  },
  {
   "cell_type": "markdown",
   "id": "03324ddd",
   "metadata": {},
   "source": [
    "## Question 3"
   ]
  },
  {
   "cell_type": "code",
   "execution_count": null,
   "id": "0f8c8349",
   "metadata": {},
   "outputs": [],
   "source": [
    "#include <iostream>\n",
    "#include <iomanip>\n",
    "\n",
    "using namespace std;\n",
    "\n",
    "\n",
    "\n",
    "int main()\n",
    "{\n",
    "    int r1, r2, x=50;\n",
    "    r1 = x % 2;\n",
    "    r2 = x % 5;\n",
    "    if (r1 == 0 || r2 == 0)\n",
    "        cout << \"yes\";\n",
    "    else\n",
    "        cout << \"no\";\n",
    "    return 0;\n",
    "}\n"
   ]
  },
  {
   "cell_type": "code",
   "execution_count": null,
   "id": "2300483a",
   "metadata": {},
   "outputs": [],
   "source": []
  }
 ],
 "metadata": {
  "kernelspec": {
   "display_name": "Python 3 (ipykernel)",
   "language": "python",
   "name": "python3"
  },
  "language_info": {
   "codemirror_mode": {
    "name": "ipython",
    "version": 3
   },
   "file_extension": ".py",
   "mimetype": "text/x-python",
   "name": "python",
   "nbconvert_exporter": "python",
   "pygments_lexer": "ipython3",
   "version": "3.8.16"
  }
 },
 "nbformat": 4,
 "nbformat_minor": 5
}
