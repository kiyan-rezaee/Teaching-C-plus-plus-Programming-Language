{
 "cells": [
  {
   "cell_type": "markdown",
   "id": "e0351bd9",
   "metadata": {},
   "source": [
    "### Double vs Float"
   ]
  },
  {
   "cell_type": "code",
   "execution_count": null,
   "id": "70d15418",
   "metadata": {},
   "outputs": [],
   "source": [
    "#include <iostream>\n",
    "\n",
    "using namespace std;\n",
    "\n",
    "\n",
    "int main()\n",
    "{\n",
    "    float a = 1.1; \n",
    "    double b = 1.1;\n",
    "    if (a == b)\n",
    "        cout << \"Equal\" << endl;\n",
    "    else\n",
    "        cout << \"Not equal\";\n",
    "\n",
    "    return 0;\n",
    "}"
   ]
  },
  {
   "cell_type": "markdown",
   "id": "cddbfc39",
   "metadata": {},
   "source": [
    "### setprecision function"
   ]
  },
  {
   "cell_type": "code",
   "execution_count": null,
   "id": "b90711de",
   "metadata": {},
   "outputs": [],
   "source": [
    "#include <iostream>\n",
    "#include <iomanip>\n",
    "\n",
    "using namespace std;\n",
    "\n",
    "// 3 -> 0011 -> 3\n",
    "// 2.5 -> 0010.1000 -> 2.5\n",
    "// 2.6 -> base 2 -> 2.60000000000000001\n",
    "int main()\n",
    "{\n",
    "    cout << setprecision(17);\n",
    "    double d = 2.6;\n",
    "    cout << d << endl;\n",
    "\n",
    "    return 0;\n",
    "}"
   ]
  },
  {
   "cell_type": "markdown",
   "id": "4a519ec5",
   "metadata": {},
   "source": [
    "### Boolean variables"
   ]
  },
  {
   "cell_type": "code",
   "execution_count": null,
   "id": "65b842bb",
   "metadata": {},
   "outputs": [],
   "source": [
    "#include <iostream>\n",
    "#include <iomanip>\n",
    "\n",
    "using namespace std;\n",
    "\n",
    "int f(int p, int q)\n",
    "{\n",
    "    if (p > q)\n",
    "        return p;\n",
    "    else\n",
    "        return q;\n",
    "}\n",
    "\n",
    "int main()\n",
    "{\n",
    "    int a = 5, b =10;\n",
    "    int k;\n",
    "    bool x = true;\n",
    "    bool y = false;\n",
    "    k = ((a*b) + (x+y));\n",
    "    cout << k << endl;\n",
    "    return 0;\n",
    "}\n"
   ]
  },
  {
   "cell_type": "code",
   "execution_count": null,
   "id": "87a22a0e",
   "metadata": {},
   "outputs": [],
   "source": [
    "#include <iostream>\n",
    "#include <iomanip>\n",
    "\n",
    "using namespace std;\n",
    "\n",
    "int f(int p, int q)\n",
    "{\n",
    "    if (p > q)\n",
    "        return p;\n",
    "    else\n",
    "        return q;\n",
    "}\n",
    "\n",
    "int main()\n",
    "{\n",
    "    int a = 5, b =10;\n",
    "    int k;\n",
    "    bool x = true;\n",
    "    bool y = f(a, b);\n",
    "    k = ((a*b) + (x+y));\n",
    "    cout << k << endl;\n",
    "    return 0;\n",
    "}\n"
   ]
  },
  {
   "cell_type": "markdown",
   "id": "785a6d55",
   "metadata": {},
   "source": [
    "### Problem sets (week one)"
   ]
  },
  {
   "cell_type": "code",
   "execution_count": null,
   "id": "776e02c6",
   "metadata": {},
   "outputs": [],
   "source": [
    "#include <iostream>\n",
    "#include <iomanip>\n",
    "\n",
    "using namespace std;\n",
    "\n",
    "// برنامه ای که حقوق کارمندی را خوانده، بیمه و مالیات و دریافتی او را محاسبه کرده و نمایش دهد. بیمه و مالیات به ترتیب 7 و 10 درصد است.\n",
    "\n",
    "int main()\n",
    "{\n",
    " float x, b, m, d;\n",
    " cin>>x;\n",
    " b=0.07*x;\n",
    " m=0.10*x;\n",
    " d=x-b-m;\n",
    " cout<<b<<\" \"<<m<<\" \"<<d;\n",
    "\n",
    "    return 0;\n",
    "}"
   ]
  },
  {
   "cell_type": "code",
   "execution_count": null,
   "id": "08a6b96d",
   "metadata": {},
   "outputs": [],
   "source": [
    "#include <iostream>\n",
    "#include <iomanip>\n",
    "\n",
    "using namespace std;\n",
    "\n",
    "// برنامه ای بنویسید عددی دو رقمی را خوانده، محموع ارقام و مغلوب آن را محاسبه کند.\n",
    "\n",
    "int main()\n",
    "{\n",
    "int x, sum, inv,x1;\n",
    "cin>>x;\n",
    "x1= x%10;\n",
    "sum=x/10+x1;\n",
    "\n",
    "\n",
    "    return 0;\n",
    "}\n"
   ]
  }
 ],
 "metadata": {
  "kernelspec": {
   "display_name": "Python 3 (ipykernel)",
   "language": "python",
   "name": "python3"
  },
  "language_info": {
   "codemirror_mode": {
    "name": "ipython",
    "version": 3
   },
   "file_extension": ".py",
   "mimetype": "text/x-python",
   "name": "python",
   "nbconvert_exporter": "python",
   "pygments_lexer": "ipython3",
   "version": "3.8.16"
  }
 },
 "nbformat": 4,
 "nbformat_minor": 5
}
